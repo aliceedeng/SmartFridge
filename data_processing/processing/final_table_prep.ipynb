{
 "cells": [
  {
   "cell_type": "code",
   "execution_count": 1,
   "metadata": {},
   "outputs": [],
   "source": [
    "import pickle\n",
    "import sys\n",
    "import numpy as np\n",
    "import pandas as pd"
   ]
  },
  {
   "cell_type": "markdown",
   "metadata": {},
   "source": [
    "## PATHS"
   ]
  },
  {
   "cell_type": "code",
   "execution_count": 4,
   "metadata": {},
   "outputs": [],
   "source": [
    "# inputs\n",
    "ing_in_input = 'data/join/ing_in_table.pkl'\n",
    "usda_input = 'data/join/usda.pkl'\n",
    "recipes_input = 'data/raw/full_recipes.pkl'\n",
    "# outputs\n",
    "ing_in_output = 'data/tables/ing_in.pkl'\n",
    "recipes_output = 'data/tables/recipes.pkl'\n",
    "usda_output = 'data/tables/usda.pkl'"
   ]
  },
  {
   "cell_type": "markdown",
   "metadata": {},
   "source": [
    "## Load Inputs"
   ]
  },
  {
   "cell_type": "code",
   "execution_count": 23,
   "metadata": {},
   "outputs": [],
   "source": [
    "def load(path):\n",
    "    return pickle.load(open(path, 'rb'))\n",
    "\n",
    "ing_in = load(ing_in_input)\n",
    "usda = load(usda_input)\n",
    "recipes = load(recipes_input)"
   ]
  },
  {
   "cell_type": "markdown",
   "metadata": {},
   "source": [
    "Remove all usda ingredients from usda that do not have any matches in ingredients in. Drops about 3k ingredients"
   ]
  },
  {
   "cell_type": "code",
   "execution_count": 24,
   "metadata": {},
   "outputs": [],
   "source": [
    "feat_ings = ing_in['usda_id']\n",
    "feated = usda.index.isin(feat_ings.values)\n",
    "usda = usda.loc[feated, :]"
   ]
  },
  {
   "cell_type": "markdown",
   "metadata": {},
   "source": [
    "Drop unnecessary nutrition columns"
   ]
  },
  {
   "cell_type": "code",
   "execution_count": 25,
   "metadata": {},
   "outputs": [],
   "source": [
    "usda.drop(columns=['Shrt_Desc', 'Water_(g)', 'Lipid_Tot_(g)',\n",
    "       'Ash_(g)', 'Carbohydrt_(g)', 'Fiber_TD_(g)',\n",
    "       'Calcium_(mg)', 'Iron_(mg)', 'Magnesium_(mg)', 'Phosphorus_(mg)',\n",
    "       'Potassium_(mg)', 'Zinc_(mg)', 'Copper_mg)',\n",
    "       'Manganese_(mg)', 'Selenium_(µg)', 'Vit_C_(mg)', 'Thiamin_(mg)',\n",
    "       'Riboflavin_(mg)', 'Niacin_(mg)', 'Panto_Acid_mg)', 'Vit_B6_(mg)',\n",
    "       'Folate_Tot_(µg)', 'Folic_Acid_(µg)', 'Food_Folate_(µg)',\n",
    "       'Folate_DFE_(µg)', 'Choline_Tot_ (mg)', 'Vit_B12_(µg)', 'Vit_A_IU',\n",
    "       'Vit_A_RAE', 'Retinol_(µg)', 'Alpha_Carot_(µg)', 'Beta_Carot_(µg)',\n",
    "       'Beta_Crypt_(µg)', 'Lycopene_(µg)', 'Lut+Zea_ (µg)', 'Vit_E_(mg)',\n",
    "       'Vit_D_µg', 'Vit_D_IU', 'Vit_K_(µg)', 'FA_Sat_(g)', 'FA_Mono_(g)',\n",
    "       'FA_Poly_(g)', 'Refuse_Pct'], inplace=True)"
   ]
  },
  {
   "cell_type": "code",
   "execution_count": 26,
   "metadata": {},
   "outputs": [
    {
     "data": {
      "text/html": [
       "<div>\n",
       "<style scoped>\n",
       "    .dataframe tbody tr th:only-of-type {\n",
       "        vertical-align: middle;\n",
       "    }\n",
       "\n",
       "    .dataframe tbody tr th {\n",
       "        vertical-align: top;\n",
       "    }\n",
       "\n",
       "    .dataframe thead th {\n",
       "        text-align: right;\n",
       "    }\n",
       "</style>\n",
       "<table border=\"1\" class=\"dataframe\">\n",
       "  <thead>\n",
       "    <tr style=\"text-align: right;\">\n",
       "      <th></th>\n",
       "      <th>Energ_Kcal</th>\n",
       "      <th>Protein_(g)</th>\n",
       "      <th>Sugar_Tot_(g)</th>\n",
       "      <th>Sodium_(mg)</th>\n",
       "      <th>Cholestrl_(mg)</th>\n",
       "      <th>GmWt_1</th>\n",
       "      <th>GmWt_Desc1</th>\n",
       "      <th>GmWt_2</th>\n",
       "      <th>GmWt_Desc2</th>\n",
       "      <th>desc</th>\n",
       "    </tr>\n",
       "    <tr>\n",
       "      <th>id</th>\n",
       "      <th></th>\n",
       "      <th></th>\n",
       "      <th></th>\n",
       "      <th></th>\n",
       "      <th></th>\n",
       "      <th></th>\n",
       "      <th></th>\n",
       "      <th></th>\n",
       "      <th></th>\n",
       "      <th></th>\n",
       "    </tr>\n",
       "  </thead>\n",
       "  <tbody>\n",
       "    <tr>\n",
       "      <th>1001</th>\n",
       "      <td>717.0</td>\n",
       "      <td>0.85</td>\n",
       "      <td>0.06</td>\n",
       "      <td>643.0</td>\n",
       "      <td>215.0</td>\n",
       "      <td>5.00</td>\n",
       "      <td>1 pat,  (1\" sq, 1/3\" high)</td>\n",
       "      <td>14.2</td>\n",
       "      <td>1 tbsp</td>\n",
       "      <td>butter with salt</td>\n",
       "    </tr>\n",
       "    <tr>\n",
       "      <th>1002</th>\n",
       "      <td>718.0</td>\n",
       "      <td>0.49</td>\n",
       "      <td>0.06</td>\n",
       "      <td>583.0</td>\n",
       "      <td>225.0</td>\n",
       "      <td>3.80</td>\n",
       "      <td>1 pat,  (1\" sq, 1/3\" high)</td>\n",
       "      <td>9.4</td>\n",
       "      <td>1 tbsp</td>\n",
       "      <td>butter whipped with salt</td>\n",
       "    </tr>\n",
       "    <tr>\n",
       "      <th>1003</th>\n",
       "      <td>876.0</td>\n",
       "      <td>0.28</td>\n",
       "      <td>0.00</td>\n",
       "      <td>2.0</td>\n",
       "      <td>256.0</td>\n",
       "      <td>12.80</td>\n",
       "      <td>1 tbsp</td>\n",
       "      <td>205.0</td>\n",
       "      <td>1 cup</td>\n",
       "      <td>butter oil anhydrous</td>\n",
       "    </tr>\n",
       "    <tr>\n",
       "      <th>1004</th>\n",
       "      <td>353.0</td>\n",
       "      <td>21.40</td>\n",
       "      <td>0.50</td>\n",
       "      <td>1146.0</td>\n",
       "      <td>75.0</td>\n",
       "      <td>28.35</td>\n",
       "      <td>1 oz</td>\n",
       "      <td>17.0</td>\n",
       "      <td>1 cubic inch</td>\n",
       "      <td>blue cheese</td>\n",
       "    </tr>\n",
       "    <tr>\n",
       "      <th>1005</th>\n",
       "      <td>371.0</td>\n",
       "      <td>23.24</td>\n",
       "      <td>0.51</td>\n",
       "      <td>560.0</td>\n",
       "      <td>94.0</td>\n",
       "      <td>132.00</td>\n",
       "      <td>1 cup, diced</td>\n",
       "      <td>113.0</td>\n",
       "      <td>1 cup, shredded</td>\n",
       "      <td>brick cheese</td>\n",
       "    </tr>\n",
       "  </tbody>\n",
       "</table>\n",
       "</div>"
      ],
      "text/plain": [
       "      Energ_Kcal  Protein_(g)  Sugar_Tot_(g)  Sodium_(mg)  Cholestrl_(mg)  \\\n",
       "id                                                                          \n",
       "1001       717.0         0.85           0.06        643.0           215.0   \n",
       "1002       718.0         0.49           0.06        583.0           225.0   \n",
       "1003       876.0         0.28           0.00          2.0           256.0   \n",
       "1004       353.0        21.40           0.50       1146.0            75.0   \n",
       "1005       371.0        23.24           0.51        560.0            94.0   \n",
       "\n",
       "      GmWt_1                  GmWt_Desc1  GmWt_2       GmWt_Desc2  \\\n",
       "id                                                                  \n",
       "1001    5.00  1 pat,  (1\" sq, 1/3\" high)    14.2           1 tbsp   \n",
       "1002    3.80  1 pat,  (1\" sq, 1/3\" high)     9.4           1 tbsp   \n",
       "1003   12.80                      1 tbsp   205.0            1 cup   \n",
       "1004   28.35                        1 oz    17.0     1 cubic inch   \n",
       "1005  132.00                1 cup, diced   113.0  1 cup, shredded   \n",
       "\n",
       "                          desc  \n",
       "id                              \n",
       "1001          butter with salt  \n",
       "1002  butter whipped with salt  \n",
       "1003      butter oil anhydrous  \n",
       "1004               blue cheese  \n",
       "1005              brick cheese  "
      ]
     },
     "execution_count": 26,
     "metadata": {},
     "output_type": "execute_result"
    }
   ],
   "source": [
    "usda.head()"
   ]
  },
  {
   "cell_type": "markdown",
   "metadata": {},
   "source": [
    "Rename columns in usda"
   ]
  },
  {
   "cell_type": "code",
   "execution_count": 33,
   "metadata": {},
   "outputs": [],
   "source": [
    "usda.rename(columns={'Energ_Kcal': 'cal', 'GmWt_1': 'hwt_1', 'GmWt_2': 'hwt_2', 'Protein_(g)': 'protein', 'Sugar_Tot_(g)': 'sugar', 'Sodium_(mg)': 'sodium', 'Cholestrl_(mg)': 'cholesterol', 'GmWt_Desc1' : 'house_1', 'GmWt_Desc2': 'house_2'}, inplace=True)"
   ]
  },
  {
   "cell_type": "markdown",
   "metadata": {},
   "source": [
    "Make recipes into a dataframe"
   ]
  },
  {
   "cell_type": "code",
   "execution_count": 43,
   "metadata": {},
   "outputs": [
    {
     "data": {
      "text/plain": [
       "array(['Slow Cooker Chicken and Dumplings',\n",
       "       'Awesome Slow Cooker Pot Roast', 'Brown Sugar Meatloaf', ...,\n",
       "       'Fresh Cheese with Spinach ',\n",
       "       'Jalapeño and Lime–Marinated Skirt Steak Tacos ',\n",
       "       'Semolina–Lemon Syrup Cakes '], dtype=object)"
      ]
     },
     "execution_count": 43,
     "metadata": {},
     "output_type": "execute_result"
    }
   ],
   "source": [
    "cols = {}\n",
    "keys = []\n",
    "colnames = ['title', 'instructions', 'picture_link', 'src']\n",
    "for col in colnames:\n",
    "    cols[col] = []\n",
    "# iterate over recipes\n",
    "for rid, recipe in recipes.items():\n",
    "    keys.append(rid)\n",
    "    for col in colnames:\n",
    "        if col not in recipe or not recipe[col]:\n",
    "            cols[col].append(np.NaN)\n",
    "        else:\n",
    "            cols[col].append(recipe[col])\n",
    "# init df\n",
    "recipes_df = pd.DataFrame(index=keys, data=cols)\n",
    "recipes_df.head(200)\n",
    "recipes_df['title'].unique()"
   ]
  },
  {
   "cell_type": "code",
   "execution_count": 45,
   "metadata": {},
   "outputs": [
    {
     "data": {
      "text/plain": [
       "Index(['comment', 'display', 'unit', 'name', 'input', 'qty', 'other',\n",
       "       'usda_id'],\n",
       "      dtype='object')"
      ]
     },
     "execution_count": 45,
     "metadata": {},
     "output_type": "execute_result"
    }
   ],
   "source": [
    "ing_in.columns"
   ]
  },
  {
   "cell_type": "markdown",
   "metadata": {},
   "source": [
    "## Save outputs"
   ]
  },
  {
   "cell_type": "code",
   "execution_count": 46,
   "metadata": {},
   "outputs": [],
   "source": [
    "def save(path, obj):\n",
    "    pickle.dump(obj, open(path, 'wb'))\n",
    "    \n",
    "save(recipes_output, recipes_df)\n",
    "save(usda_output, usda)\n",
    "save(ing_in_output, ing_in)"
   ]
  },
  {
   "cell_type": "code",
   "execution_count": null,
   "metadata": {},
   "outputs": [],
   "source": []
  }
 ],
 "metadata": {
  "kernelspec": {
   "display_name": "Python 3",
   "language": "python",
   "name": "python3"
  },
  "language_info": {
   "codemirror_mode": {
    "name": "ipython",
    "version": 3
   },
   "file_extension": ".py",
   "mimetype": "text/x-python",
   "name": "python",
   "nbconvert_exporter": "python",
   "pygments_lexer": "ipython3",
   "version": "3.6.5"
  }
 },
 "nbformat": 4,
 "nbformat_minor": 2
}
