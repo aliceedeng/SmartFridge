{
 "cells": [
  {
   "cell_type": "code",
   "execution_count": 1,
   "metadata": {},
   "outputs": [],
   "source": [
    "import numpy as np\n",
    "import pandas as pd\n",
    "import pickle"
   ]
  },
  {
   "cell_type": "code",
   "execution_count": 3,
   "metadata": {},
   "outputs": [
    {
     "name": "stderr",
     "output_type": "stream",
     "text": [
      "C:\\Users\\bpiv4\\Anaconda3\\lib\\site-packages\\IPython\\core\\interactiveshell.py:2785: DtypeWarning: Columns (2,3) have mixed types. Specify dtype option on import or set low_memory=False.\n",
      "  interactivity=interactivity, compiler=compiler, result=result)\n"
     ]
    }
   ],
   "source": [
    "path = 'data_processing/data/raw/recpic.csv'\n",
    "table = pd.read_csv(path)"
   ]
  },
  {
   "cell_type": "code",
   "execution_count": 5,
   "metadata": {},
   "outputs": [
    {
     "data": {
      "text/plain": [
       "Unnamed: 0       int64\n",
       "rid             object\n",
       "picture_link    object\n",
       "picture_url     object\n",
       "dtype: object"
      ]
     },
     "execution_count": 5,
     "metadata": {},
     "output_type": "execute_result"
    }
   ],
   "source": [
    "table.dtypes"
   ]
  },
  {
   "cell_type": "code",
   "execution_count": 8,
   "metadata": {},
   "outputs": [],
   "source": [
    "table['rid'] = table['rid'].astype(str)\n",
    "table['picture_link'] = table['picture_link'].astype(str)\n",
    "table['picture_url'] = table['picture_url'].astype(str)"
   ]
  },
  {
   "cell_type": "code",
   "execution_count": 16,
   "metadata": {
    "scrolled": true
   },
   "outputs": [
    {
     "data": {
      "text/plain": [
       "0         False\n",
       "1         False\n",
       "2         False\n",
       "3         False\n",
       "4         False\n",
       "5         False\n",
       "6         False\n",
       "7         False\n",
       "8         False\n",
       "9         False\n",
       "10        False\n",
       "11        False\n",
       "12        False\n",
       "13        False\n",
       "14        False\n",
       "15         True\n",
       "16        False\n",
       "17         True\n",
       "18        False\n",
       "19        False\n",
       "20         True\n",
       "21        False\n",
       "22         True\n",
       "23         True\n",
       "24         True\n",
       "25         True\n",
       "26         True\n",
       "27         True\n",
       "28         True\n",
       "29         True\n",
       "          ...  \n",
       "505198     True\n",
       "505199     True\n",
       "505200     True\n",
       "505201    False\n",
       "505202    False\n",
       "505203    False\n",
       "505204     True\n",
       "505205     True\n",
       "505206    False\n",
       "505207    False\n",
       "505208     True\n",
       "505209     True\n",
       "505210     True\n",
       "505211     True\n",
       "505212    False\n",
       "505213    False\n",
       "505214    False\n",
       "505215     True\n",
       "505216     True\n",
       "505217     True\n",
       "505218    False\n",
       "505219     True\n",
       "505220     True\n",
       "505221     True\n",
       "505222    False\n",
       "505223     True\n",
       "505224     True\n",
       "505225    False\n",
       "505226     True\n",
       "505227    False\n",
       "Name: picture_url, Length: 505228, dtype: bool"
      ]
     },
     "execution_count": 16,
     "metadata": {},
     "output_type": "execute_result"
    }
   ],
   "source": [
    "table['picture_url'] == 'nan'"
   ]
  },
  {
   "cell_type": "code",
   "execution_count": 20,
   "metadata": {},
   "outputs": [],
   "source": [
    "# filter\n",
    "table = table.loc[~(table['picture_url']=='nan').values, :]"
   ]
  },
  {
   "cell_type": "code",
   "execution_count": 32,
   "metadata": {},
   "outputs": [
    {
     "data": {
      "text/html": [
       "<div>\n",
       "<style scoped>\n",
       "    .dataframe tbody tr th:only-of-type {\n",
       "        vertical-align: middle;\n",
       "    }\n",
       "\n",
       "    .dataframe tbody tr th {\n",
       "        vertical-align: top;\n",
       "    }\n",
       "\n",
       "    .dataframe thead th {\n",
       "        text-align: right;\n",
       "    }\n",
       "</style>\n",
       "<table border=\"1\" class=\"dataframe\">\n",
       "  <thead>\n",
       "    <tr style=\"text-align: right;\">\n",
       "      <th></th>\n",
       "      <th>rid</th>\n",
       "      <th>picture_url</th>\n",
       "    </tr>\n",
       "  </thead>\n",
       "  <tbody>\n",
       "    <tr>\n",
       "      <th>0</th>\n",
       "      <td>..!AFIrLizRK7C5isREQ0hUdXoNXTpS</td>\n",
       "      <td>http://images.media-allrecipes.com/userphotos/...</td>\n",
       "    </tr>\n",
       "    <tr>\n",
       "      <th>1</th>\n",
       "      <td>..3M3xsVPQLnncQ2oYzCyhGjNe!6EB2</td>\n",
       "      <td>http://images.media-allrecipes.com/userphotos/...</td>\n",
       "    </tr>\n",
       "    <tr>\n",
       "      <th>2</th>\n",
       "      <td>..64QbeV22IrPuRAdLu4zscfAjsaFaK</td>\n",
       "      <td>http://images.media-allrecipes.com/userphotos/...</td>\n",
       "    </tr>\n",
       "    <tr>\n",
       "      <th>3</th>\n",
       "      <td>..6gl!0GIzSugrbvy6kHyxEHMMP4h9K</td>\n",
       "      <td>http://images.media-allrecipes.com/userphotos/...</td>\n",
       "    </tr>\n",
       "    <tr>\n",
       "      <th>4</th>\n",
       "      <td>..B3IS4KrEGWH7o13lvV9nQSe9a4u36</td>\n",
       "      <td>http://images.media-allrecipes.com/userphotos/...</td>\n",
       "    </tr>\n",
       "    <tr>\n",
       "      <th>5</th>\n",
       "      <td>..B3IS4KrEGWH7o13lvV9nQSe9a4u36</td>\n",
       "      <td>http://images.media-allrecipes.com/userphotos/...</td>\n",
       "    </tr>\n",
       "    <tr>\n",
       "      <th>6</th>\n",
       "      <td>xmZDHprXYuJLw1qBks9C8JTaDGrLhLW</td>\n",
       "      <td>http://images.media-allrecipes.com/userphotos/...</td>\n",
       "    </tr>\n",
       "    <tr>\n",
       "      <th>7</th>\n",
       "      <td>xmZDHprXYuJLw1qBks9C8JTaDGrLhLW</td>\n",
       "      <td>http://images.media-allrecipes.com/userphotos/...</td>\n",
       "    </tr>\n",
       "    <tr>\n",
       "      <th>8</th>\n",
       "      <td>..G2iuRLT7oseNmkKbjqAgbdB1G5IBC</td>\n",
       "      <td>http://images.media-allrecipes.com/userphotos/...</td>\n",
       "    </tr>\n",
       "    <tr>\n",
       "      <th>9</th>\n",
       "      <td>..M776r8BHroHcCXw3vInfs25LDkWw2</td>\n",
       "      <td>http://images.media-allrecipes.com/userphotos/...</td>\n",
       "    </tr>\n",
       "    <tr>\n",
       "      <th>10</th>\n",
       "      <td>..VDFobAHiAa0127h.N784Y2pnZyBZK</td>\n",
       "      <td>http://images.media-allrecipes.com/userphotos/...</td>\n",
       "    </tr>\n",
       "    <tr>\n",
       "      <th>11</th>\n",
       "      <td>..hYtxdDoy5Rp..pLgIj2mKKfvp1jPa</td>\n",
       "      <td>http://images.media-allrecipes.com/userphotos/...</td>\n",
       "    </tr>\n",
       "    <tr>\n",
       "      <th>12</th>\n",
       "      <td>..r9vTQ.rPxKBEmr5CeouYRueErDR9u</td>\n",
       "      <td>http://images.media-allrecipes.com/userphotos/...</td>\n",
       "    </tr>\n",
       "    <tr>\n",
       "      <th>13</th>\n",
       "      <td>..zLAsmHw6uRpyyL3wdNL4!Tb8JV2Xi</td>\n",
       "      <td>http://images.media-allrecipes.com/userphotos/...</td>\n",
       "    </tr>\n",
       "    <tr>\n",
       "      <th>14</th>\n",
       "      <td>.!5SXkxSheUGnXwzE.JEWAq6sts0hEC</td>\n",
       "      <td>http://images.media-allrecipes.com/userphotos/...</td>\n",
       "    </tr>\n",
       "    <tr>\n",
       "      <th>16</th>\n",
       "      <td>vxaI!KBmK1QZx9NkVBV0Zne5W0VCY5m</td>\n",
       "      <td>http://images.media-allrecipes.com/userphotos/...</td>\n",
       "    </tr>\n",
       "    <tr>\n",
       "      <th>18</th>\n",
       "      <td>.!9NHrh0hVWjNBzdD9K7RxDr!cCpT3y</td>\n",
       "      <td>http://images.media-allrecipes.com/userphotos/...</td>\n",
       "    </tr>\n",
       "    <tr>\n",
       "      <th>19</th>\n",
       "      <td>.!EObbt769KyfBTxJ.hIRe5275W4a9C</td>\n",
       "      <td>http://images.media-allrecipes.com/userphotos/...</td>\n",
       "    </tr>\n",
       "    <tr>\n",
       "      <th>21</th>\n",
       "      <td>Xuh5aNGCBpp!ljGL0xukc!oI3Ta29Qe</td>\n",
       "      <td>http://images.media-allrecipes.com/userphotos/...</td>\n",
       "    </tr>\n",
       "    <tr>\n",
       "      <th>329474</th>\n",
       "      <td>.!RQzBdmkMrCjBzAcf!tKPhdAkvbpi6</td>\n",
       "      <td>http://images.media-allrecipes.com/userphotos/...</td>\n",
       "    </tr>\n",
       "    <tr>\n",
       "      <th>329475</th>\n",
       "      <td>.!WbO.mgN3HN9OGcABM6QtkteuqT.vK</td>\n",
       "      <td>http://images.media-allrecipes.com/userphotos/...</td>\n",
       "    </tr>\n",
       "    <tr>\n",
       "      <th>329476</th>\n",
       "      <td>.!Y2IEmiANmKQmZj7PqgNeqisN9Uz!i</td>\n",
       "      <td>http://images.media-allrecipes.com/userphotos/...</td>\n",
       "    </tr>\n",
       "    <tr>\n",
       "      <th>329477</th>\n",
       "      <td>.!eTQ2lZcf1HULirZU1fLTCTj4z0sTe</td>\n",
       "      <td>http://images.media-allrecipes.com/userphotos/...</td>\n",
       "    </tr>\n",
       "    <tr>\n",
       "      <th>329478</th>\n",
       "      <td>.!jQWBUUmN0XDVQ83Ou!OKMzxaCThZu</td>\n",
       "      <td>http://images.media-allrecipes.com/userphotos/...</td>\n",
       "    </tr>\n",
       "    <tr>\n",
       "      <th>329479</th>\n",
       "      <td>.!omiUkUTvXo3jEjNaDV!OsBVRvvOUG</td>\n",
       "      <td>http://images.media-allrecipes.com/userphotos/...</td>\n",
       "    </tr>\n",
       "    <tr>\n",
       "      <th>329481</th>\n",
       "      <td>oM9rECBJuIhkSNOHE2.kswWIbUR7arG</td>\n",
       "      <td>http://images.media-allrecipes.com/userphotos/...</td>\n",
       "    </tr>\n",
       "    <tr>\n",
       "      <th>329483</th>\n",
       "      <td>.!wfEm2N7qTlpYnatir.1oLiOldJP3.</td>\n",
       "      <td>http://images.media-allrecipes.com/global/reci...</td>\n",
       "    </tr>\n",
       "    <tr>\n",
       "      <th>329484</th>\n",
       "      <td>.!x2RMPK31bLJUudsf!qiF2iCZp!y2u</td>\n",
       "      <td>http://images.media-allrecipes.com/global/reci...</td>\n",
       "    </tr>\n",
       "    <tr>\n",
       "      <th>329485</th>\n",
       "      <td>.0!AfXAViFvl4QESfOPdR7lN4y.ru!i</td>\n",
       "      <td>http://images.media-allrecipes.com/userphotos/...</td>\n",
       "    </tr>\n",
       "    <tr>\n",
       "      <th>329486</th>\n",
       "      <td>.018cUcqw.UENq3SmsIF7il4mpEUg5.</td>\n",
       "      <td>http://images.media-allrecipes.com/userphotos/...</td>\n",
       "    </tr>\n",
       "    <tr>\n",
       "      <th>329487</th>\n",
       "      <td>.01XKDMO!BIOTeKC7T0kVUGxcoPrbCa</td>\n",
       "      <td>http://images.media-allrecipes.com/userphotos/...</td>\n",
       "    </tr>\n",
       "    <tr>\n",
       "      <th>329488</th>\n",
       "      <td>.0HkfxIINkCFhsAGLFu4Umbr00E4NDO</td>\n",
       "      <td>http://images.media-allrecipes.com/global/reci...</td>\n",
       "    </tr>\n",
       "    <tr>\n",
       "      <th>329489</th>\n",
       "      <td>.0KMI3lC8FZlujw2Kd!DF3aBa2mznBq</td>\n",
       "      <td>http://images.media-allrecipes.com/userphotos/...</td>\n",
       "    </tr>\n",
       "    <tr>\n",
       "      <th>329490</th>\n",
       "      <td>.0MpGWj3Naxhqs694fVYELTpmXEQQAq</td>\n",
       "      <td>http://images.media-allrecipes.com/userphotos/...</td>\n",
       "    </tr>\n",
       "    <tr>\n",
       "      <th>329491</th>\n",
       "      <td>.0fYjM9yPJAzDx2swQl4aG9f!gTYkg.</td>\n",
       "      <td>http://images.media-allrecipes.com/userphotos/...</td>\n",
       "    </tr>\n",
       "    <tr>\n",
       "      <th>329492</th>\n",
       "      <td>.0hboDHB!Nvarvv0VqdxShtqqlhBKhu</td>\n",
       "      <td>http://images.media-allrecipes.com/userphotos/...</td>\n",
       "    </tr>\n",
       "    <tr>\n",
       "      <th>329493</th>\n",
       "      <td>.0o!aZR1y9hZwPwgYgIODl2rEBYGtdy</td>\n",
       "      <td>http://images.media-allrecipes.com/userphotos/...</td>\n",
       "    </tr>\n",
       "    <tr>\n",
       "      <th>329494</th>\n",
       "      <td>.0oWnxbypbC6S..BID!iGbOQ7um8gUK</td>\n",
       "      <td>http://images.media-allrecipes.com/userphotos/...</td>\n",
       "    </tr>\n",
       "    <tr>\n",
       "      <th>329495</th>\n",
       "      <td>.0xq8jhGgPnNKdr0u2OU5tCZm4R2kpC</td>\n",
       "      <td>http://images.media-allrecipes.com/userphotos/...</td>\n",
       "    </tr>\n",
       "    <tr>\n",
       "      <th>329496</th>\n",
       "      <td>.12bcbuKzBtUwvUDLz4SA2iPZctyzei</td>\n",
       "      <td>http://images.media-allrecipes.com/userphotos/...</td>\n",
       "    </tr>\n",
       "    <tr>\n",
       "      <th>329497</th>\n",
       "      <td>.19Xtq7KJ7SYbRuHas.pCnRynNHQObm</td>\n",
       "      <td>http://images.media-allrecipes.com/userphotos/...</td>\n",
       "    </tr>\n",
       "    <tr>\n",
       "      <th>329498</th>\n",
       "      <td>.1fy!1R7Ii3UxIp!w!FP.qAynCsEpTO</td>\n",
       "      <td>http://images.media-allrecipes.com/global/reci...</td>\n",
       "    </tr>\n",
       "    <tr>\n",
       "      <th>329499</th>\n",
       "      <td>.1nbwP2qhDX6p4uTH9C9MHYYjIsZ6dy</td>\n",
       "      <td>http://images.media-allrecipes.com/global/reci...</td>\n",
       "    </tr>\n",
       "    <tr>\n",
       "      <th>329500</th>\n",
       "      <td>.1puHuHtjioOdTS3jkiNtfbqGyKpOvu</td>\n",
       "      <td>http://images.media-allrecipes.com/global/reci...</td>\n",
       "    </tr>\n",
       "    <tr>\n",
       "      <th>329501</th>\n",
       "      <td>.1rbuOxWLedoM53ZUWGw4RIuWOxh9FS</td>\n",
       "      <td>http://images.media-allrecipes.com/userphotos/...</td>\n",
       "    </tr>\n",
       "    <tr>\n",
       "      <th>329502</th>\n",
       "      <td>.1tPnOIeXiV3J6Dt7JRXaGBESQQRBX.</td>\n",
       "      <td>http://images.media-allrecipes.com/userphotos/...</td>\n",
       "    </tr>\n",
       "    <tr>\n",
       "      <th>329503</th>\n",
       "      <td>.26s!bP!!mNjKuEH13wZL56zOPTXVum</td>\n",
       "      <td>http://images.media-allrecipes.com/userphotos/...</td>\n",
       "    </tr>\n",
       "    <tr>\n",
       "      <th>329504</th>\n",
       "      <td>.26vA2gyvkB6g82rJSgekkmlFWdRxbS</td>\n",
       "      <td>http://images.media-allrecipes.com/userphotos/...</td>\n",
       "    </tr>\n",
       "    <tr>\n",
       "      <th>329505</th>\n",
       "      <td>.2Hf95yW3oAJdxNkrw48OenIIx7qBWS</td>\n",
       "      <td>http://images.media-allrecipes.com/userphotos/...</td>\n",
       "    </tr>\n",
       "    <tr>\n",
       "      <th>329506</th>\n",
       "      <td>.2SsSWKXL8dwY1n.go72rTkeMh8d9KW</td>\n",
       "      <td>http://images.media-allrecipes.com/userphotos/...</td>\n",
       "    </tr>\n",
       "  </tbody>\n",
       "</table>\n",
       "</div>"
      ],
      "text/plain": [
       "                                    rid  \\\n",
       "0       ..!AFIrLizRK7C5isREQ0hUdXoNXTpS   \n",
       "1       ..3M3xsVPQLnncQ2oYzCyhGjNe!6EB2   \n",
       "2       ..64QbeV22IrPuRAdLu4zscfAjsaFaK   \n",
       "3       ..6gl!0GIzSugrbvy6kHyxEHMMP4h9K   \n",
       "4       ..B3IS4KrEGWH7o13lvV9nQSe9a4u36   \n",
       "5       ..B3IS4KrEGWH7o13lvV9nQSe9a4u36   \n",
       "6       xmZDHprXYuJLw1qBks9C8JTaDGrLhLW   \n",
       "7       xmZDHprXYuJLw1qBks9C8JTaDGrLhLW   \n",
       "8       ..G2iuRLT7oseNmkKbjqAgbdB1G5IBC   \n",
       "9       ..M776r8BHroHcCXw3vInfs25LDkWw2   \n",
       "10      ..VDFobAHiAa0127h.N784Y2pnZyBZK   \n",
       "11      ..hYtxdDoy5Rp..pLgIj2mKKfvp1jPa   \n",
       "12      ..r9vTQ.rPxKBEmr5CeouYRueErDR9u   \n",
       "13      ..zLAsmHw6uRpyyL3wdNL4!Tb8JV2Xi   \n",
       "14      .!5SXkxSheUGnXwzE.JEWAq6sts0hEC   \n",
       "16      vxaI!KBmK1QZx9NkVBV0Zne5W0VCY5m   \n",
       "18      .!9NHrh0hVWjNBzdD9K7RxDr!cCpT3y   \n",
       "19      .!EObbt769KyfBTxJ.hIRe5275W4a9C   \n",
       "21      Xuh5aNGCBpp!ljGL0xukc!oI3Ta29Qe   \n",
       "329474  .!RQzBdmkMrCjBzAcf!tKPhdAkvbpi6   \n",
       "329475  .!WbO.mgN3HN9OGcABM6QtkteuqT.vK   \n",
       "329476  .!Y2IEmiANmKQmZj7PqgNeqisN9Uz!i   \n",
       "329477  .!eTQ2lZcf1HULirZU1fLTCTj4z0sTe   \n",
       "329478  .!jQWBUUmN0XDVQ83Ou!OKMzxaCThZu   \n",
       "329479  .!omiUkUTvXo3jEjNaDV!OsBVRvvOUG   \n",
       "329481  oM9rECBJuIhkSNOHE2.kswWIbUR7arG   \n",
       "329483  .!wfEm2N7qTlpYnatir.1oLiOldJP3.   \n",
       "329484  .!x2RMPK31bLJUudsf!qiF2iCZp!y2u   \n",
       "329485  .0!AfXAViFvl4QESfOPdR7lN4y.ru!i   \n",
       "329486  .018cUcqw.UENq3SmsIF7il4mpEUg5.   \n",
       "329487  .01XKDMO!BIOTeKC7T0kVUGxcoPrbCa   \n",
       "329488  .0HkfxIINkCFhsAGLFu4Umbr00E4NDO   \n",
       "329489  .0KMI3lC8FZlujw2Kd!DF3aBa2mznBq   \n",
       "329490  .0MpGWj3Naxhqs694fVYELTpmXEQQAq   \n",
       "329491  .0fYjM9yPJAzDx2swQl4aG9f!gTYkg.   \n",
       "329492  .0hboDHB!Nvarvv0VqdxShtqqlhBKhu   \n",
       "329493  .0o!aZR1y9hZwPwgYgIODl2rEBYGtdy   \n",
       "329494  .0oWnxbypbC6S..BID!iGbOQ7um8gUK   \n",
       "329495  .0xq8jhGgPnNKdr0u2OU5tCZm4R2kpC   \n",
       "329496  .12bcbuKzBtUwvUDLz4SA2iPZctyzei   \n",
       "329497  .19Xtq7KJ7SYbRuHas.pCnRynNHQObm   \n",
       "329498  .1fy!1R7Ii3UxIp!w!FP.qAynCsEpTO   \n",
       "329499  .1nbwP2qhDX6p4uTH9C9MHYYjIsZ6dy   \n",
       "329500  .1puHuHtjioOdTS3jkiNtfbqGyKpOvu   \n",
       "329501  .1rbuOxWLedoM53ZUWGw4RIuWOxh9FS   \n",
       "329502  .1tPnOIeXiV3J6Dt7JRXaGBESQQRBX.   \n",
       "329503  .26s!bP!!mNjKuEH13wZL56zOPTXVum   \n",
       "329504  .26vA2gyvkB6g82rJSgekkmlFWdRxbS   \n",
       "329505  .2Hf95yW3oAJdxNkrw48OenIIx7qBWS   \n",
       "329506  .2SsSWKXL8dwY1n.go72rTkeMh8d9KW   \n",
       "\n",
       "                                              picture_url  \n",
       "0       http://images.media-allrecipes.com/userphotos/...  \n",
       "1       http://images.media-allrecipes.com/userphotos/...  \n",
       "2       http://images.media-allrecipes.com/userphotos/...  \n",
       "3       http://images.media-allrecipes.com/userphotos/...  \n",
       "4       http://images.media-allrecipes.com/userphotos/...  \n",
       "5       http://images.media-allrecipes.com/userphotos/...  \n",
       "6       http://images.media-allrecipes.com/userphotos/...  \n",
       "7       http://images.media-allrecipes.com/userphotos/...  \n",
       "8       http://images.media-allrecipes.com/userphotos/...  \n",
       "9       http://images.media-allrecipes.com/userphotos/...  \n",
       "10      http://images.media-allrecipes.com/userphotos/...  \n",
       "11      http://images.media-allrecipes.com/userphotos/...  \n",
       "12      http://images.media-allrecipes.com/userphotos/...  \n",
       "13      http://images.media-allrecipes.com/userphotos/...  \n",
       "14      http://images.media-allrecipes.com/userphotos/...  \n",
       "16      http://images.media-allrecipes.com/userphotos/...  \n",
       "18      http://images.media-allrecipes.com/userphotos/...  \n",
       "19      http://images.media-allrecipes.com/userphotos/...  \n",
       "21      http://images.media-allrecipes.com/userphotos/...  \n",
       "329474  http://images.media-allrecipes.com/userphotos/...  \n",
       "329475  http://images.media-allrecipes.com/userphotos/...  \n",
       "329476  http://images.media-allrecipes.com/userphotos/...  \n",
       "329477  http://images.media-allrecipes.com/userphotos/...  \n",
       "329478  http://images.media-allrecipes.com/userphotos/...  \n",
       "329479  http://images.media-allrecipes.com/userphotos/...  \n",
       "329481  http://images.media-allrecipes.com/userphotos/...  \n",
       "329483  http://images.media-allrecipes.com/global/reci...  \n",
       "329484  http://images.media-allrecipes.com/global/reci...  \n",
       "329485  http://images.media-allrecipes.com/userphotos/...  \n",
       "329486  http://images.media-allrecipes.com/userphotos/...  \n",
       "329487  http://images.media-allrecipes.com/userphotos/...  \n",
       "329488  http://images.media-allrecipes.com/global/reci...  \n",
       "329489  http://images.media-allrecipes.com/userphotos/...  \n",
       "329490  http://images.media-allrecipes.com/userphotos/...  \n",
       "329491  http://images.media-allrecipes.com/userphotos/...  \n",
       "329492  http://images.media-allrecipes.com/userphotos/...  \n",
       "329493  http://images.media-allrecipes.com/userphotos/...  \n",
       "329494  http://images.media-allrecipes.com/userphotos/...  \n",
       "329495  http://images.media-allrecipes.com/userphotos/...  \n",
       "329496  http://images.media-allrecipes.com/userphotos/...  \n",
       "329497  http://images.media-allrecipes.com/userphotos/...  \n",
       "329498  http://images.media-allrecipes.com/global/reci...  \n",
       "329499  http://images.media-allrecipes.com/global/reci...  \n",
       "329500  http://images.media-allrecipes.com/global/reci...  \n",
       "329501  http://images.media-allrecipes.com/userphotos/...  \n",
       "329502  http://images.media-allrecipes.com/userphotos/...  \n",
       "329503  http://images.media-allrecipes.com/userphotos/...  \n",
       "329504  http://images.media-allrecipes.com/userphotos/...  \n",
       "329505  http://images.media-allrecipes.com/userphotos/...  \n",
       "329506  http://images.media-allrecipes.com/userphotos/...  "
      ]
     },
     "execution_count": 32,
     "metadata": {},
     "output_type": "execute_result"
    }
   ],
   "source": [
    "table.loc[:, ['rid', 'picture_url']].head(50)"
   ]
  },
  {
   "cell_type": "code",
   "execution_count": 48,
   "metadata": {},
   "outputs": [
    {
     "data": {
      "text/plain": [
       "2"
      ]
     },
     "execution_count": 48,
     "metadata": {},
     "output_type": "execute_result"
    }
   ],
   "source": [
    "(table['picture_url'] == 'http://images.media-allrecipes.com/userphotos/560x315/44594.jpg').sum()"
   ]
  },
  {
   "cell_type": "code",
   "execution_count": 49,
   "metadata": {},
   "outputs": [],
   "source": [
    "nodups = table.loc[~table['rid'].duplicated(), :]"
   ]
  },
  {
   "cell_type": "code",
   "execution_count": 52,
   "metadata": {},
   "outputs": [
    {
     "data": {
      "text/plain": [
       "False"
      ]
     },
     "execution_count": 52,
     "metadata": {},
     "output_type": "execute_result"
    }
   ],
   "source": [
    "nodups['rid'].duplicated().any()"
   ]
  },
  {
   "cell_type": "code",
   "execution_count": 53,
   "metadata": {},
   "outputs": [
    {
     "data": {
      "text/plain": [
       "False"
      ]
     },
     "execution_count": 53,
     "metadata": {},
     "output_type": "execute_result"
    }
   ],
   "source": [
    "(nodups['picture_url'] == 'nan').any()"
   ]
  },
  {
   "cell_type": "code",
   "execution_count": 54,
   "metadata": {},
   "outputs": [
    {
     "data": {
      "text/plain": [
       "237"
      ]
     },
     "execution_count": 54,
     "metadata": {},
     "output_type": "execute_result"
    }
   ],
   "source": [
    "max(nodups['picture_url'].str.len())"
   ]
  },
  {
   "cell_type": "code",
   "execution_count": 55,
   "metadata": {},
   "outputs": [],
   "source": [
    "nodups = nodups.loc[:, ['rid', 'picture_url']]"
   ]
  },
  {
   "cell_type": "code",
   "execution_count": 57,
   "metadata": {},
   "outputs": [],
   "source": [
    "nodups.rename(columns={'picture_url': 'link'}, inplace=True)"
   ]
  },
  {
   "cell_type": "code",
   "execution_count": 58,
   "metadata": {},
   "outputs": [],
   "source": [
    "nodups.to_csv('data_processing/data/raw/images.csv', index=False)"
   ]
  }
 ],
 "metadata": {
  "kernelspec": {
   "display_name": "Python 3",
   "language": "python",
   "name": "python3"
  },
  "language_info": {
   "codemirror_mode": {
    "name": "ipython",
    "version": 3
   },
   "file_extension": ".py",
   "mimetype": "text/x-python",
   "name": "python",
   "nbconvert_exporter": "python",
   "pygments_lexer": "ipython3",
   "version": "3.6.8"
  }
 },
 "nbformat": 4,
 "nbformat_minor": 2
}
