{
 "cells": [
  {
   "cell_type": "code",
   "execution_count": 2,
   "metadata": {},
   "outputs": [],
   "source": [
    "import pickle\n",
    "import sys\n",
    "import numpy as np\n",
    "import pandas as pd\n",
    "from fractions import Fraction\n",
    "import re\n",
    "import math"
   ]
  },
  {
   "cell_type": "markdown",
   "metadata": {},
   "source": [
    "## PATHS"
   ]
  },
  {
   "cell_type": "code",
   "execution_count": 3,
   "metadata": {},
   "outputs": [],
   "source": [
    "# inputs\n",
    "ing_in_input = 'data/join/ing_in_table.pkl'\n",
    "usda_input = 'data/join/usda.pkl'\n",
    "recipes_input = 'data/raw/full_recipes.pkl'\n",
    "# outputs\n",
    "ing_in_output = 'data/tables/ing_in.xlsx'\n",
    "recipes_output = 'data/tables/recipes.xlsx'\n",
    "usda_output = 'data/tables/usda.xlsx'"
   ]
  },
  {
   "cell_type": "markdown",
   "metadata": {},
   "source": [
    "## Load Inputs"
   ]
  },
  {
   "cell_type": "code",
   "execution_count": 4,
   "metadata": {},
   "outputs": [],
   "source": [
    "def load(path):\n",
    "    return pickle.load(open(path, 'rb'))\n",
    "\n",
    "ing_in = load(ing_in_input)\n",
    "usda = load(usda_input)\n",
    "recipes = load(recipes_input)"
   ]
  },
  {
   "cell_type": "markdown",
   "metadata": {},
   "source": [
    "Remove all usda ingredients from usda that do not have any matches in ingredients in. Drops about 3k ingredients"
   ]
  },
  {
   "cell_type": "code",
   "execution_count": 5,
   "metadata": {},
   "outputs": [],
   "source": [
    "feat_ings = ing_in['usda_id']\n",
    "feated = usda.index.isin(feat_ings.values)\n",
    "usda = usda.loc[feated, :]"
   ]
  },
  {
   "cell_type": "markdown",
   "metadata": {},
   "source": [
    "Drop unnecessary nutrition columns"
   ]
  },
  {
   "cell_type": "code",
   "execution_count": 6,
   "metadata": {},
   "outputs": [],
   "source": [
    "usda.drop(columns=['Shrt_Desc', 'Water_(g)', 'Lipid_Tot_(g)',\n",
    "       'Ash_(g)', 'Carbohydrt_(g)', 'Fiber_TD_(g)',\n",
    "       'Calcium_(mg)', 'Iron_(mg)', 'Magnesium_(mg)', 'Phosphorus_(mg)',\n",
    "       'Potassium_(mg)', 'Zinc_(mg)', 'Copper_mg)',\n",
    "       'Manganese_(mg)', 'Selenium_(µg)', 'Vit_C_(mg)', 'Thiamin_(mg)',\n",
    "       'Riboflavin_(mg)', 'Niacin_(mg)', 'Panto_Acid_mg)', 'Vit_B6_(mg)',\n",
    "       'Folate_Tot_(µg)', 'Folic_Acid_(µg)', 'Food_Folate_(µg)',\n",
    "       'Folate_DFE_(µg)', 'Choline_Tot_ (mg)', 'Vit_B12_(µg)', 'Vit_A_IU',\n",
    "       'Vit_A_RAE', 'Retinol_(µg)', 'Alpha_Carot_(µg)', 'Beta_Carot_(µg)',\n",
    "       'Beta_Crypt_(µg)', 'Lycopene_(µg)', 'Lut+Zea_ (µg)', 'Vit_E_(mg)',\n",
    "       'Vit_D_µg', 'Vit_D_IU', 'Vit_K_(µg)', 'FA_Sat_(g)', 'FA_Mono_(g)',\n",
    "       'FA_Poly_(g)', 'Refuse_Pct'], inplace=True)"
   ]
  },
  {
   "cell_type": "code",
   "execution_count": 7,
   "metadata": {},
   "outputs": [
    {
     "data": {
      "text/html": [
       "<div>\n",
       "<style scoped>\n",
       "    .dataframe tbody tr th:only-of-type {\n",
       "        vertical-align: middle;\n",
       "    }\n",
       "\n",
       "    .dataframe tbody tr th {\n",
       "        vertical-align: top;\n",
       "    }\n",
       "\n",
       "    .dataframe thead th {\n",
       "        text-align: right;\n",
       "    }\n",
       "</style>\n",
       "<table border=\"1\" class=\"dataframe\">\n",
       "  <thead>\n",
       "    <tr style=\"text-align: right;\">\n",
       "      <th></th>\n",
       "      <th>Energ_Kcal</th>\n",
       "      <th>Protein_(g)</th>\n",
       "      <th>Sugar_Tot_(g)</th>\n",
       "      <th>Sodium_(mg)</th>\n",
       "      <th>Cholestrl_(mg)</th>\n",
       "      <th>GmWt_1</th>\n",
       "      <th>GmWt_Desc1</th>\n",
       "      <th>GmWt_2</th>\n",
       "      <th>GmWt_Desc2</th>\n",
       "      <th>desc</th>\n",
       "    </tr>\n",
       "    <tr>\n",
       "      <th>id</th>\n",
       "      <th></th>\n",
       "      <th></th>\n",
       "      <th></th>\n",
       "      <th></th>\n",
       "      <th></th>\n",
       "      <th></th>\n",
       "      <th></th>\n",
       "      <th></th>\n",
       "      <th></th>\n",
       "      <th></th>\n",
       "    </tr>\n",
       "  </thead>\n",
       "  <tbody>\n",
       "    <tr>\n",
       "      <th>1001</th>\n",
       "      <td>717.0</td>\n",
       "      <td>0.85</td>\n",
       "      <td>0.06</td>\n",
       "      <td>643.0</td>\n",
       "      <td>215.0</td>\n",
       "      <td>5.00</td>\n",
       "      <td>1 pat,  (1\" sq, 1/3\" high)</td>\n",
       "      <td>14.2</td>\n",
       "      <td>1 tbsp</td>\n",
       "      <td>butter with salt</td>\n",
       "    </tr>\n",
       "    <tr>\n",
       "      <th>1002</th>\n",
       "      <td>718.0</td>\n",
       "      <td>0.49</td>\n",
       "      <td>0.06</td>\n",
       "      <td>583.0</td>\n",
       "      <td>225.0</td>\n",
       "      <td>3.80</td>\n",
       "      <td>1 pat,  (1\" sq, 1/3\" high)</td>\n",
       "      <td>9.4</td>\n",
       "      <td>1 tbsp</td>\n",
       "      <td>butter whipped with salt</td>\n",
       "    </tr>\n",
       "    <tr>\n",
       "      <th>1003</th>\n",
       "      <td>876.0</td>\n",
       "      <td>0.28</td>\n",
       "      <td>0.00</td>\n",
       "      <td>2.0</td>\n",
       "      <td>256.0</td>\n",
       "      <td>12.80</td>\n",
       "      <td>1 tbsp</td>\n",
       "      <td>205.0</td>\n",
       "      <td>1 cup</td>\n",
       "      <td>butter oil anhydrous</td>\n",
       "    </tr>\n",
       "    <tr>\n",
       "      <th>1004</th>\n",
       "      <td>353.0</td>\n",
       "      <td>21.40</td>\n",
       "      <td>0.50</td>\n",
       "      <td>1146.0</td>\n",
       "      <td>75.0</td>\n",
       "      <td>28.35</td>\n",
       "      <td>1 oz</td>\n",
       "      <td>17.0</td>\n",
       "      <td>1 cubic inch</td>\n",
       "      <td>blue cheese</td>\n",
       "    </tr>\n",
       "    <tr>\n",
       "      <th>1005</th>\n",
       "      <td>371.0</td>\n",
       "      <td>23.24</td>\n",
       "      <td>0.51</td>\n",
       "      <td>560.0</td>\n",
       "      <td>94.0</td>\n",
       "      <td>132.00</td>\n",
       "      <td>1 cup, diced</td>\n",
       "      <td>113.0</td>\n",
       "      <td>1 cup, shredded</td>\n",
       "      <td>brick cheese</td>\n",
       "    </tr>\n",
       "  </tbody>\n",
       "</table>\n",
       "</div>"
      ],
      "text/plain": [
       "      Energ_Kcal  Protein_(g)  Sugar_Tot_(g)  Sodium_(mg)  Cholestrl_(mg)  \\\n",
       "id                                                                          \n",
       "1001       717.0         0.85           0.06        643.0           215.0   \n",
       "1002       718.0         0.49           0.06        583.0           225.0   \n",
       "1003       876.0         0.28           0.00          2.0           256.0   \n",
       "1004       353.0        21.40           0.50       1146.0            75.0   \n",
       "1005       371.0        23.24           0.51        560.0            94.0   \n",
       "\n",
       "      GmWt_1                  GmWt_Desc1  GmWt_2       GmWt_Desc2  \\\n",
       "id                                                                  \n",
       "1001    5.00  1 pat,  (1\" sq, 1/3\" high)    14.2           1 tbsp   \n",
       "1002    3.80  1 pat,  (1\" sq, 1/3\" high)     9.4           1 tbsp   \n",
       "1003   12.80                      1 tbsp   205.0            1 cup   \n",
       "1004   28.35                        1 oz    17.0     1 cubic inch   \n",
       "1005  132.00                1 cup, diced   113.0  1 cup, shredded   \n",
       "\n",
       "                          desc  \n",
       "id                              \n",
       "1001          butter with salt  \n",
       "1002  butter whipped with salt  \n",
       "1003      butter oil anhydrous  \n",
       "1004               blue cheese  \n",
       "1005              brick cheese  "
      ]
     },
     "execution_count": 7,
     "metadata": {},
     "output_type": "execute_result"
    }
   ],
   "source": [
    "usda.head()"
   ]
  },
  {
   "cell_type": "markdown",
   "metadata": {},
   "source": [
    "Rename columns in usda"
   ]
  },
  {
   "cell_type": "code",
   "execution_count": 8,
   "metadata": {},
   "outputs": [],
   "source": [
    "usda.rename(columns={'Energ_Kcal': 'cal', 'GmWt_1': 'hwt_1', 'GmWt_2': 'hwt_2', 'Protein_(g)': 'protein', 'Sugar_Tot_(g)': 'sugar', 'Sodium_(mg)': 'sodium', 'Cholestrl_(mg)': 'cholesterol', 'GmWt_Desc1' : 'house_1', 'GmWt_Desc2': 'house_2'}, inplace=True)"
   ]
  },
  {
   "cell_type": "markdown",
   "metadata": {},
   "source": [
    "Make recipes into a dataframe"
   ]
  },
  {
   "cell_type": "code",
   "execution_count": 9,
   "metadata": {},
   "outputs": [
    {
     "data": {
      "text/plain": [
       "array(['Slow Cooker Chicken and Dumplings',\n",
       "       'Awesome Slow Cooker Pot Roast', 'Brown Sugar Meatloaf', ...,\n",
       "       'Fresh Cheese with Spinach ',\n",
       "       'Jalapeño and Lime–Marinated Skirt Steak Tacos ',\n",
       "       'Semolina–Lemon Syrup Cakes '], dtype=object)"
      ]
     },
     "execution_count": 9,
     "metadata": {},
     "output_type": "execute_result"
    }
   ],
   "source": [
    "cols = {}\n",
    "keys = []\n",
    "colnames = ['title', 'instructions', 'picture_link', 'src']\n",
    "for col in colnames:\n",
    "    cols[col] = []\n",
    "# iterate over recipes\n",
    "for rid, recipe in recipes.items():\n",
    "    keys.append(rid)\n",
    "    for col in colnames:\n",
    "        if col not in recipe or not recipe[col]:\n",
    "            cols[col].append(np.NaN)\n",
    "        else:\n",
    "            cols[col].append(recipe[col])\n",
    "# init df\n",
    "recipes_df = pd.DataFrame(index=keys, data=cols)\n",
    "recipes_df.head(200)\n",
    "recipes_df['title'].unique()"
   ]
  },
  {
   "cell_type": "code",
   "execution_count": 10,
   "metadata": {},
   "outputs": [
    {
     "data": {
      "text/plain": [
       "Index(['comment', 'display', 'unit', 'name', 'input', 'qty', 'other',\n",
       "       'usda_id'],\n",
       "      dtype='object')"
      ]
     },
     "execution_count": 10,
     "metadata": {},
     "output_type": "execute_result"
    }
   ],
   "source": [
    "ing_in.columns"
   ]
  },
  {
   "cell_type": "code",
   "execution_count": 11,
   "metadata": {},
   "outputs": [],
   "source": [
    "# add row to usda for missing ingredient\n",
    "missing = pd.DataFrame(np.NaN, index=[-1], columns=usda.columns.values)\n",
    "missing.loc[1, 'desc'] = 'NOMATCH'\n",
    "usda_new = usda.append(missing, verify_integrity=True)\n",
    "# remove name from usda and rename desc\n",
    "usda.rename(columns={'desc': 'name'}, inplace=True)"
   ]
  },
  {
   "cell_type": "markdown",
   "metadata": {},
   "source": [
    "Check primary key constraints"
   ]
  },
  {
   "cell_type": "code",
   "execution_count": 12,
   "metadata": {},
   "outputs": [
    {
     "name": "stdout",
     "output_type": "stream",
     "text": [
      "False\n",
      "False\n",
      "False\n"
     ]
    }
   ],
   "source": [
    "# verify that ids for usda_new, ing_in, and recipes are unique \n",
    "print(usda_new.index.duplicated().any())\n",
    "print(recipes_df.index.duplicated().any())\n",
    "print(ing_in.index.duplicated().any())\n",
    "usda_new.rename(columns={'desc':'name'}, inplace=True)\n",
    "usda_new.index.name = 'usda_id'"
   ]
  },
  {
   "cell_type": "markdown",
   "metadata": {},
   "source": [
    "Check foreign key constraints"
   ]
  },
  {
   "cell_type": "code",
   "execution_count": 13,
   "metadata": {},
   "outputs": [
    {
     "name": "stdout",
     "output_type": "stream",
     "text": [
      "True\n",
      "True\n"
     ]
    }
   ],
   "source": [
    "print(ing_in['usda_id'].isin(usda_new.index.values).all())\n",
    "print(ing_in.index.get_level_values('rid').isin(recipes_df.index.values).all())"
   ]
  },
  {
   "cell_type": "code",
   "execution_count": 14,
   "metadata": {},
   "outputs": [
    {
     "data": {
      "text/plain": [
       "Fraction(1, 1)"
      ]
     },
     "execution_count": 14,
     "metadata": {},
     "output_type": "execute_result"
    }
   ],
   "source": [
    "a= [2, 4]\n",
    "sum(a)\n",
    "Fraction('1')"
   ]
  },
  {
   "cell_type": "code",
   "execution_count": 15,
   "metadata": {},
   "outputs": [],
   "source": [
    "def convert(x, regexp=None):\n",
    "    if not isinstance(x, str) and math.isnan(x) or x == 'nan':\n",
    "        return np.NaN\n",
    "    if regexp.search(x):\n",
    "        return np.NaN\n",
    "    if '-' in x:\n",
    "        x = x.split('-')[0]\n",
    "    if '–' in x:\n",
    "        x = x.split('–')[0]\n",
    "    if '—' in x:\n",
    "        x = x.split('—')[0]\n",
    "    xlist = x.split(' ')\n",
    "    xlist = [float(Fraction(el)) for el in xlist]\n",
    "    return sum(xlist)\n",
    "# column type conversions\n",
    "org = ing_in.loc[:, 'qty']\n",
    "# replacements\n",
    "org = org.str.replace('*', '')\n",
    "org = org.str.replace('\"', '')\n",
    "org = org.str.replace(',', '')\n",
    "org = org.str.replace(';', '')\n",
    "org = org.str.replace('¼', '1/4')\n",
    "org = org.str.replace('‟', '')\n",
    "org = org.str.replace('½', '1/2')\n",
    "org = org.str.replace('¾', '3/4')\n",
    "org = org.str.replace('§', '')\n",
    "\n",
    "org = org.apply(convert, regexp=re.compile(r'[A-Za-z]'))\n",
    "ing_in.loc[org.index, 'qty'] = org.values"
   ]
  },
  {
   "cell_type": "code",
   "execution_count": 75,
   "metadata": {},
   "outputs": [],
   "source": [
    "ing_in['qty'] = ing_in['qty'].astype(np.float)"
   ]
  },
  {
   "cell_type": "code",
   "execution_count": 92,
   "metadata": {},
   "outputs": [
    {
     "name": "stdout",
     "output_type": "stream",
     "text": [
      "usda\n",
      "Index(['cal', 'protein', 'sugar', 'sodium', 'cholesterol', 'hwt_1', 'house_1',\n",
      "       'hwt_2', 'house_2', 'name'],\n",
      "      dtype='object')\n",
      "cal            float64\n",
      "protein        float64\n",
      "sugar          float64\n",
      "sodium         float64\n",
      "cholesterol    float64\n",
      "hwt_1          float64\n",
      "house_1         object\n",
      "hwt_2          float64\n",
      "house_2         object\n",
      "name            object\n",
      "dtype: object\n",
      "usda_id\n",
      "           cal  protein  sugar  sodium  cholesterol   hwt_1  \\\n",
      "usda_id                                                       \n",
      "1001     717.0     0.85   0.06   643.0        215.0    5.00   \n",
      "1002     718.0     0.49   0.06   583.0        225.0    3.80   \n",
      "1003     876.0     0.28   0.00     2.0        256.0   12.80   \n",
      "1004     353.0    21.40   0.50  1146.0         75.0   28.35   \n",
      "1005     371.0    23.24   0.51   560.0         94.0  132.00   \n",
      "\n",
      "                            house_1  hwt_2          house_2  \\\n",
      "usda_id                                                       \n",
      "1001     1 pat,  (1\" sq, 1/3\" high)   14.2           1 tbsp   \n",
      "1002     1 pat,  (1\" sq, 1/3\" high)    9.4           1 tbsp   \n",
      "1003                         1 tbsp  205.0            1 cup   \n",
      "1004                           1 oz   17.0     1 cubic inch   \n",
      "1005                   1 cup, diced  113.0  1 cup, shredded   \n",
      "\n",
      "                             name  \n",
      "usda_id                            \n",
      "1001             butter with salt  \n",
      "1002     butter whipped with salt  \n",
      "1003         butter oil anhydrous  \n",
      "1004                  blue cheese  \n",
      "1005                 brick cheese  \n",
      "ing_in\n",
      "Index(['comment', 'display', 'unit', 'name', 'input', 'qty', 'other',\n",
      "       'usda_id'],\n",
      "      dtype='object')\n",
      "comment     object\n",
      "display     object\n",
      "unit        object\n",
      "name        object\n",
      "input       object\n",
      "qty        float64\n",
      "other       object\n",
      "usda_id      int64\n",
      "dtype: object\n",
      "['rid', 'num']\n",
      "                                                 comment  \\\n",
      "rid                             num                        \n",
      "jbWwuskmiz2Mn1txRXdQNrq1pHJVRAC 4    at room temperature   \n",
      "aNeSl3fSKYCB6x7rio/KZxPVls0Ff0u 8                    NaN   \n",
      "7mwLnPZP9Uumx2U26QQwwHvwsX0YzwG 7                    NaN   \n",
      "D.fNSoaGOK3.fgGLwXeQZ4725Ey7irS 0        chilled (dashi)   \n",
      "5USSuTtileUMNs//sjayBvTSePH3jHS 7                    NaN   \n",
      "\n",
      "                                                                               display  \\\n",
      "rid                             num                                                      \n",
      "jbWwuskmiz2Mn1txRXdQNrq1pHJVRAC 4    <span class='qty'>2</span><span class='name'>e...   \n",
      "aNeSl3fSKYCB6x7rio/KZxPVls0Ff0u 8    <span class='qty'>1/2</span><span class='unit'...   \n",
      "7mwLnPZP9Uumx2U26QQwwHvwsX0YzwG 7    <span class='qty'>1</span><span class='unit'>t...   \n",
      "D.fNSoaGOK3.fgGLwXeQZ4725Ey7irS 0    <span class='qty'>1</span><span class='unit'>c...   \n",
      "5USSuTtileUMNs//sjayBvTSePH3jHS 7    <span class='qty'>1</span><span class='unit'>t...   \n",
      "\n",
      "                                         unit           name  \\\n",
      "rid                             num                            \n",
      "jbWwuskmiz2Mn1txRXdQNrq1pHJVRAC 4         NaN           eggs   \n",
      "aNeSl3fSKYCB6x7rio/KZxPVls0Ff0u 8         cup   dark raisins   \n",
      "7mwLnPZP9Uumx2U26QQwwHvwsX0YzwG 7    teaspoon  baking powder   \n",
      "D.fNSoaGOK3.fgGLwXeQZ4725Ey7irS 0         cup     kelp stock   \n",
      "5USSuTtileUMNs//sjayBvTSePH3jHS 7    teaspoon       sea salt   \n",
      "\n",
      "                                                                input  qty  \\\n",
      "rid                             num                                          \n",
      "jbWwuskmiz2Mn1txRXdQNrq1pHJVRAC 4         2 eggs, at room temperature  2.0   \n",
      "aNeSl3fSKYCB6x7rio/KZxPVls0Ff0u 8                1/2 cup dark raisins  0.5   \n",
      "7mwLnPZP9Uumx2U26QQwwHvwsX0YzwG 7            1 teaspoon baking powder  1.0   \n",
      "D.fNSoaGOK3.fgGLwXeQZ4725Ey7irS 0    1 cup chilled kelp (dashi) stock  1.0   \n",
      "5USSuTtileUMNs//sjayBvTSePH3jHS 7                 1 teaspoon sea salt  1.0   \n",
      "\n",
      "                                    other  usda_id  \n",
      "rid                             num                 \n",
      "jbWwuskmiz2Mn1txRXdQNrq1pHJVRAC 4       ,    93604  \n",
      "aNeSl3fSKYCB6x7rio/KZxPVls0Ff0u 8     NaN     8132  \n",
      "7mwLnPZP9Uumx2U26QQwwHvwsX0YzwG 7     NaN     2026  \n",
      "D.fNSoaGOK3.fgGLwXeQZ4725Ey7irS 0     NaN     6044  \n",
      "5USSuTtileUMNs//sjayBvTSePH3jHS 7     NaN    28017  \n",
      "recipes\n",
      "Index(['title', 'instructions', 'picture_link', 'src'], dtype='object')\n",
      "None\n",
      "                                                             title  \\\n",
      "rmK12Uau.ntP510KeImX506H6Mr6jTu  Slow Cooker Chicken and Dumplings   \n",
      "5ZpZE8hSVdPk2ZXo1mZTyoPWJRSCPSm      Awesome Slow Cooker Pot Roast   \n",
      "clyYQv.CplpwJtjNaFGhx0VilNYqRxu               Brown Sugar Meatloaf   \n",
      "BmqFAmCrDHiKNwX.IQzb0U/v0mLlxFu        Best Chocolate Chip Cookies   \n",
      "N.jCksRjB4MFwbgPFQU8Kg.yF.XCtOi  Homemade Mac and Cheese Casserole   \n",
      "\n",
      "                                                                      instructions  \\\n",
      "rmK12Uau.ntP510KeImX506H6Mr6jTu  Place the chicken, butter, soup, and onion in ...   \n",
      "5ZpZE8hSVdPk2ZXo1mZTyoPWJRSCPSm  In a slow cooker, mix cream of mushroom soup, ...   \n",
      "clyYQv.CplpwJtjNaFGhx0VilNYqRxu  Preheat oven to 350 degrees F (175 degrees C)....   \n",
      "BmqFAmCrDHiKNwX.IQzb0U/v0mLlxFu  Preheat oven to 350 degrees F (175 degrees C)....   \n",
      "N.jCksRjB4MFwbgPFQU8Kg.yF.XCtOi  Preheat oven to 350 degrees F. Line a 2-quart ...   \n",
      "\n",
      "                                                    picture_link src  \n",
      "rmK12Uau.ntP510KeImX506H6Mr6jTu  55lznCYBbs2mT8BTx6BTkLhynGHzM.S  ar  \n",
      "5ZpZE8hSVdPk2ZXo1mZTyoPWJRSCPSm  QyrvGdGNMBA2lDdciY0FjKu.77MM0Oe  ar  \n",
      "clyYQv.CplpwJtjNaFGhx0VilNYqRxu  LVW1DI0vtlCrpAhNSEQysE9i/7rJG56  ar  \n",
      "BmqFAmCrDHiKNwX.IQzb0U/v0mLlxFu  0SO5kdWOV94j6EfAVwMMYRM3yNN8eRi  ar  \n",
      "N.jCksRjB4MFwbgPFQU8Kg.yF.XCtOi  YCnbhplMgiraW4rUXcybgSEZinSgljm  ar  \n"
     ]
    }
   ],
   "source": [
    "# column and index names for each dataframe\n",
    "print(\"usda\")\n",
    "print(usda_new.columns)\n",
    "print(usda_new.dtypes)\n",
    "print(usda_new.index.name)\n",
    "print(usda_new.head())\n",
    "\n",
    "print(\"ing_in\")\n",
    "print(ing_in.columns)\n",
    "print(ing_in.dtypes)\n",
    "print(ing_in.index.names)\n",
    "print(ing_in.head())\n",
    "\n",
    "print(\"recipes\")\n",
    "print(recipes_df.columns)\n",
    "print(recipes_df.index.name)\n",
    "print(recipes_df.head())"
   ]
  },
  {
   "cell_type": "code",
   "execution_count": 94,
   "metadata": {},
   "outputs": [
    {
     "data": {
      "text/plain": [
       "dtype('int64')"
      ]
     },
     "execution_count": 94,
     "metadata": {},
     "output_type": "execute_result"
    }
   ],
   "source": [
    "ing_in.index.levels[1].dtype"
   ]
  },
  {
   "cell_type": "code",
   "execution_count": 1,
   "metadata": {},
   "outputs": [
    {
     "ename": "NameError",
     "evalue": "name 'np' is not defined",
     "output_type": "error",
     "traceback": [
      "\u001b[1;31m---------------------------------------------------------------------------\u001b[0m",
      "\u001b[1;31mNameError\u001b[0m                                 Traceback (most recent call last)",
      "\u001b[1;32m<ipython-input-1-91a60aa6ab00>\u001b[0m in \u001b[0;36m<module>\u001b[1;34m()\u001b[0m\n\u001b[0;32m      3\u001b[0m \u001b[1;31m# largedata clob required for instructions\u001b[0m\u001b[1;33m\u001b[0m\u001b[1;33m\u001b[0m\u001b[0m\n\u001b[0;32m      4\u001b[0m \u001b[1;32mfor\u001b[0m \u001b[0mcol\u001b[0m \u001b[1;32min\u001b[0m \u001b[1;33m[\u001b[0m\u001b[1;34m'title'\u001b[0m\u001b[1;33m,\u001b[0m \u001b[1;34m'instructions'\u001b[0m\u001b[1;33m,\u001b[0m \u001b[1;34m'picture_link'\u001b[0m\u001b[1;33m,\u001b[0m \u001b[1;34m'src'\u001b[0m\u001b[1;33m]\u001b[0m\u001b[1;33m:\u001b[0m\u001b[1;33m\u001b[0m\u001b[0m\n\u001b[1;32m----> 5\u001b[1;33m     \u001b[0mprint\u001b[0m\u001b[1;33m(\u001b[0m\u001b[1;34m'%s : %d'\u001b[0m \u001b[1;33m%\u001b[0m \u001b[1;33m(\u001b[0m\u001b[0mcol\u001b[0m\u001b[1;33m,\u001b[0m \u001b[0mnp\u001b[0m\u001b[1;33m.\u001b[0m\u001b[0mamax\u001b[0m\u001b[1;33m(\u001b[0m\u001b[0mrecipes_df\u001b[0m\u001b[1;33m[\u001b[0m\u001b[0mcol\u001b[0m\u001b[1;33m]\u001b[0m\u001b[1;33m.\u001b[0m\u001b[0mstr\u001b[0m\u001b[1;33m.\u001b[0m\u001b[0mlen\u001b[0m\u001b[1;33m(\u001b[0m\u001b[1;33m)\u001b[0m\u001b[1;33m)\u001b[0m\u001b[1;33m)\u001b[0m\u001b[1;33m)\u001b[0m\u001b[1;33m\u001b[0m\u001b[0m\n\u001b[0m\u001b[0;32m      6\u001b[0m \u001b[0mprint\u001b[0m\u001b[1;33m(\u001b[0m\u001b[1;34m'rid: %d'\u001b[0m \u001b[1;33m%\u001b[0m \u001b[0mnp\u001b[0m\u001b[1;33m.\u001b[0m\u001b[0mamax\u001b[0m\u001b[1;33m(\u001b[0m\u001b[0mrecipes_df\u001b[0m\u001b[1;33m.\u001b[0m\u001b[0mindex\u001b[0m\u001b[1;33m.\u001b[0m\u001b[0mstr\u001b[0m\u001b[1;33m.\u001b[0m\u001b[0mlen\u001b[0m\u001b[1;33m(\u001b[0m\u001b[1;33m)\u001b[0m\u001b[1;33m.\u001b[0m\u001b[0mvalues\u001b[0m\u001b[1;33m)\u001b[0m\u001b[1;33m)\u001b[0m\u001b[1;33m\u001b[0m\u001b[0m\n\u001b[0;32m      7\u001b[0m \u001b[1;33m\u001b[0m\u001b[0m\n",
      "\u001b[1;31mNameError\u001b[0m: name 'np' is not defined"
     ]
    }
   ],
   "source": [
    "# print maximum length of string in each column\n",
    "# recipes\n",
    "# largedata clob required for instructions\n",
    "for col in ['title', 'instructions', 'picture_link', 'src']:\n",
    "    print('%s : %d' % (col, np.amax(recipes_df[col].str.len())))\n",
    "print('rid: %d' % np.amax(recipes_df.index.str.len().values))\n",
    "\n",
    "print('')\n",
    "\n",
    "for col in ['comment', 'display', 'unit', 'name', 'input', 'other']:\n",
    "    print('%s : %d' % (col, np.amax(ing_in[col].str.len())))\n",
    "\n",
    "print(' ')\n",
    "\n",
    "for col in ['house_1', 'house_2', 'name']:\n",
    "    print('%s : %d' % (col, np.amax(usda_new[col].str.len())))\n"
   ]
  },
  {
   "cell_type": "markdown",
   "metadata": {},
   "source": [
    "## Save outputs"
   ]
  },
  {
   "cell_type": "code",
   "execution_count": 32,
   "metadata": {},
   "outputs": [],
   "source": [
    "def save(path, obj):\n",
    "    obj.to_excel(path, na_rep='', header=True, index=True)\n",
    "    pass\n",
    "ing_in_output = 'data/join/ing_in'\n",
    "big_save(ing_in_output, ing_in, 30)"
   ]
  },
  {
   "cell_type": "code",
   "execution_count": 33,
   "metadata": {},
   "outputs": [],
   "source": [
    "def big_save(path, obj, num):\n",
    "    size = int(obj.shape[0] / num)\n",
    "    counter = 0\n",
    "    for start in range(0, obj.shape[0], size):\n",
    "        subset = obj.iloc[start:start + size]\n",
    "        save('%s_%d.xlsx' % (path, counter), subset)\n",
    "        counter += 1"
   ]
  },
  {
   "cell_type": "code",
   "execution_count": 34,
   "metadata": {},
   "outputs": [],
   "source": [
    "ing_in.columns\n",
    "ing_in.rename(columns={'comment':'comm'}, inplace=True)"
   ]
  },
  {
   "cell_type": "code",
   "execution_count": null,
   "metadata": {},
   "outputs": [],
   "source": []
  }
 ],
 "metadata": {
  "kernelspec": {
   "display_name": "Python 3",
   "language": "python",
   "name": "python3"
  },
  "language_info": {
   "codemirror_mode": {
    "name": "ipython",
    "version": 3
   },
   "file_extension": ".py",
   "mimetype": "text/x-python",
   "name": "python",
   "nbconvert_exporter": "python",
   "pygments_lexer": "ipython3",
   "version": "3.6.8"
  }
 },
 "nbformat": 4,
 "nbformat_minor": 2
}
